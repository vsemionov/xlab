{
 "cells": [
  {
   "cell_type": "code",
   "id": "initial_id",
   "metadata": {
    "collapsed": true
   },
   "source": [
    "# Copyright 2025 Victor Semionov\n",
    "#\n",
    "# Licensed under the Apache License, Version 2.0 (the \"License\");\n",
    "# you may not use this file except in compliance with the License.\n",
    "# You may obtain a copy of the License at\n",
    "#\n",
    "#     http://www.apache.org/licenses/LICENSE-2.0\n",
    "#\n",
    "# Unless required by applicable law or agreed to in writing, software\n",
    "# distributed under the License is distributed on an \"AS IS\" BASIS,\n",
    "# WITHOUT WARRANTIES OR CONDITIONS OF ANY KIND, either express or implied.\n",
    "# See the License for the specific language governing permissions and\n",
    "# limitations under the License."
   ],
   "outputs": [],
   "execution_count": null
  },
  {
   "metadata": {},
   "cell_type": "code",
   "source": [
    "import os\n",
    "from inspect import signature\n",
    "\n",
    "import numpy as np\n",
    "import seaborn as sns\n",
    "import yaml\n",
    "\n",
    "from xlabml.datamodules import XLabDataModule\n",
    "from xlabml import ROOT_DIR, CONF_DIR\n",
    "\n",
    "sns.set_theme()"
   ],
   "id": "231196fa3a6f5ffa",
   "outputs": [],
   "execution_count": null
  },
  {
   "metadata": {},
   "cell_type": "code",
   "source": "os.chdir(ROOT_DIR)",
   "id": "dd0af13a4400ec85",
   "outputs": [],
   "execution_count": null
  },
  {
   "metadata": {},
   "cell_type": "code",
   "source": [
    "with open(CONF_DIR / 'defaults.yaml') as f:\n",
    "    config = yaml.safe_load(f)\n",
    "data_kwargs = {}\n",
    "for parameter in signature(XLabDataModule.__init__).parameters:\n",
    "    if parameter in config.get('data', {}):\n",
    "        data_kwargs[parameter] = config['data'][parameter]"
   ],
   "id": "6c3ba44a5c76fbab",
   "outputs": [],
   "execution_count": null
  },
  {
   "metadata": {},
   "cell_type": "code",
   "source": [
    "data_kwargs.update(dict(\n",
    "    concatenate=True,\n",
    "    pad_incomplete=False,\n",
    "))"
   ],
   "id": "34674ff7bb8fdd7",
   "outputs": [],
   "execution_count": null
  },
  {
   "metadata": {},
   "cell_type": "code",
   "source": [
    "datamodule = XLabDataModule(**data_kwargs)\n",
    "datamodule.prepare_data()"
   ],
   "id": "88e9c3ac319374a3",
   "outputs": [],
   "execution_count": null
  },
  {
   "metadata": {},
   "cell_type": "code",
   "source": "sequence_dataset = datamodule.datasets['train']",
   "id": "88f33923427947d3",
   "outputs": [],
   "execution_count": null
  },
  {
   "metadata": {},
   "cell_type": "code",
   "source": "# np.random.seed(42)",
   "id": "d4bb64068e110633",
   "outputs": [],
   "execution_count": null
  },
  {
   "metadata": {},
   "cell_type": "code",
   "source": [
    "def print_random_attention():\n",
    "    # https://stackoverflow.com/questions/287871/how-do-i-print-colored-text-to-the-terminal\n",
    "    class bcolors:\n",
    "        HEADER = '\\033[95m'\n",
    "        OKBLUE = '\\033[94m'\n",
    "        OKCYAN = '\\033[96m'\n",
    "        OKGREEN = '\\033[92m'\n",
    "        WARNING = '\\033[93m'\n",
    "        FAIL = '\\033[91m'\n",
    "        ENDC = '\\033[0m'\n",
    "        BOLD = '\\033[1m'\n",
    "        UNDERLINE = '\\033[4m'\n",
    "\n",
    "    seq_idx = np.random.randint(len(sequence_dataset))\n",
    "    indices, _, mask = sequence_dataset[seq_idx]\n",
    "    word_idx = np.random.randint(len(indices))\n",
    "    word_attention = mask[word_idx]\n",
    "\n",
    "    tokenizer = datamodule.tokenizer\n",
    "    tokens = [tokenizer.get_token(int(index)) for index in indices]\n",
    "\n",
    "    hl_tokens = []\n",
    "    for i, token in enumerate(tokens):\n",
    "        if tokenizer.processor.is_byte(int(indices[i])):\n",
    "            hl_tokens.append(tokenizer.decode([int(indices[i])]))\n",
    "        else:\n",
    "            token = f'{bcolors.FAIL}{token}{bcolors.ENDC}' if i == word_idx else token\n",
    "            hl_tokens.append(f'{bcolors.UNDERLINE}{token}{bcolors.ENDC}' if word_attention[i] else token)\n",
    "    print(''.join(hl_tokens).replace('▁', ' '))"
   ],
   "id": "ed691754e3a99b23",
   "outputs": [],
   "execution_count": null
  },
  {
   "metadata": {},
   "cell_type": "code",
   "source": "print_random_attention()",
   "id": "2277a5fd4a91c6f6",
   "outputs": [],
   "execution_count": null
  }
 ],
 "metadata": {
  "kernelspec": {
   "display_name": "Python 3",
   "language": "python",
   "name": "python3"
  },
  "language_info": {
   "codemirror_mode": {
    "name": "ipython",
    "version": 2
   },
   "file_extension": ".py",
   "mimetype": "text/x-python",
   "name": "python",
   "nbconvert_exporter": "python",
   "pygments_lexer": "ipython2",
   "version": "2.7.6"
  }
 },
 "nbformat": 4,
 "nbformat_minor": 5
}
