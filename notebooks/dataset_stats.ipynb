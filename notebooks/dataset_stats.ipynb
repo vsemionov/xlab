{
 "cells": [
  {
   "cell_type": "code",
   "id": "initial_id",
   "metadata": {
    "collapsed": true
   },
   "source": [
    "from collections import Counter\n",
    "\n",
    "import numpy as np\n",
    "import pandas as pd\n",
    "import matplotlib.pyplot as plt\n",
    "import seaborn as sns\n",
    "\n",
    "from xlab.tokenizer import Tokenizer\n",
    "from xlab.dataset import TextDataset\n",
    "\n",
    "sns.set_theme()"
   ],
   "outputs": [],
   "execution_count": null
  },
  {
   "metadata": {},
   "cell_type": "code",
   "source": [
    "tokenizer = Tokenizer('basic_english')\n",
    "dataset = TextDataset('wikipedia', '20220301.simple', splits={'train': 0}, split='train', tokenizer=tokenizer, keep_text=True, keep_tokens=True, quiet=True)\n",
    "dataset = dataset.dataset\n"
   ],
   "id": "977106527c1aa928",
   "outputs": [],
   "execution_count": null
  },
  {
   "metadata": {},
   "cell_type": "code",
   "source": "len(dataset)",
   "id": "99110f8d3e2345d2",
   "outputs": [],
   "execution_count": null
  },
  {
   "metadata": {},
   "cell_type": "code",
   "source": [
    "np.random.seed(42)\n",
    "sample_indices = np.random.permutation(len(dataset))[:10_000]\n",
    "sample = dataset[sample_indices]\n",
    "df = pd.DataFrame(sample)"
   ],
   "id": "28f9f773b2586053",
   "outputs": [],
   "execution_count": null
  },
  {
   "metadata": {},
   "cell_type": "code",
   "source": "df['length'] = df.indices.apply(lambda i: len(i))",
   "id": "79cc41190368ea5c",
   "outputs": [],
   "execution_count": null
  },
  {
   "metadata": {},
   "cell_type": "code",
   "source": "df.head()",
   "id": "108ed658a5d9d13",
   "outputs": [],
   "execution_count": null
  },
  {
   "metadata": {},
   "cell_type": "code",
   "source": "df.length.mean(), df.length.std()",
   "id": "5c928ea3edd0a41d",
   "outputs": [],
   "execution_count": null
  },
  {
   "metadata": {},
   "cell_type": "code",
   "source": [
    "ax = sns.histplot(data=df, x='length',  log_scale=True)\n",
    "ax.set_xlabel('distance')\n",
    "ax.set_title('Distribution of relative keypoint distance')\n",
    "plt.show()"
   ],
   "id": "22c2a08e8aa2f4d5",
   "outputs": [],
   "execution_count": null
  },
  {
   "metadata": {},
   "cell_type": "code",
   "source": "df.length.quantile(0.90), df.length.quantile(0.95), df.length.quantile(0.99)",
   "id": "40ccd977e18b1cd3",
   "outputs": [],
   "execution_count": null
  },
  {
   "metadata": {},
   "cell_type": "code",
   "source": "c = Counter(token for tokens in df.tokens[:10000] for token in tokens)",
   "id": "c4100d873903bcde",
   "outputs": [],
   "execution_count": null
  },
  {
   "metadata": {},
   "cell_type": "code",
   "source": "f'unique tokens: {len(c)}'\n",
   "id": "766f343d9ec02490",
   "outputs": [],
   "execution_count": null
  }
 ],
 "metadata": {
  "kernelspec": {
   "display_name": "Python 3",
   "language": "python",
   "name": "python3"
  },
  "language_info": {
   "codemirror_mode": {
    "name": "ipython",
    "version": 2
   },
   "file_extension": ".py",
   "mimetype": "text/x-python",
   "name": "python",
   "nbconvert_exporter": "python",
   "pygments_lexer": "ipython2",
   "version": "2.7.6"
  }
 },
 "nbformat": 4,
 "nbformat_minor": 5
}
