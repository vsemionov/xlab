{
 "cells": [
  {
   "metadata": {},
   "cell_type": "code",
   "source": [
    "# Copyright 2025 Victor Semionov\n",
    "#\n",
    "# Licensed under the Apache License, Version 2.0 (the \"License\");\n",
    "# you may not use this file except in compliance with the License.\n",
    "# You may obtain a copy of the License at\n",
    "#\n",
    "#     http://www.apache.org/licenses/LICENSE-2.0\n",
    "#\n",
    "# Unless required by applicable law or agreed to in writing, software\n",
    "# distributed under the License is distributed on an \"AS IS\" BASIS,\n",
    "# WITHOUT WARRANTIES OR CONDITIONS OF ANY KIND, either express or implied.\n",
    "# See the License for the specific language governing permissions and\n",
    "# limitations under the License."
   ],
   "id": "cf5440a25c4396e7",
   "outputs": [],
   "execution_count": null
  },
  {
   "cell_type": "code",
   "id": "initial_id",
   "metadata": {
    "collapsed": true
   },
   "source": [
    "import os\n",
    "from inspect import signature\n",
    "\n",
    "import numpy as np\n",
    "import pandas as pd\n",
    "import matplotlib.pyplot as plt\n",
    "import seaborn as sns\n",
    "import yaml\n",
    "\n",
    "from xlabml.datamodules import XLabDataModule\n",
    "from xlabml import ROOT_DIR, CONF_DIR\n",
    "\n",
    "sns.set_theme()"
   ],
   "outputs": [],
   "execution_count": null
  },
  {
   "metadata": {},
   "cell_type": "code",
   "source": "os.chdir(ROOT_DIR)",
   "id": "61ad15b53e5531ae",
   "outputs": [],
   "execution_count": null
  },
  {
   "metadata": {},
   "cell_type": "code",
   "source": [
    "with open(CONF_DIR / 'defaults.yaml') as f:\n",
    "    config = yaml.safe_load(f)\n",
    "data_kwargs = {}\n",
    "for parameter in signature(XLabDataModule.__init__).parameters:\n",
    "    if parameter in config.get('data', {}):\n",
    "        data_kwargs[parameter] = config['data'][parameter]"
   ],
   "id": "4f585d4e90e395ad",
   "outputs": [],
   "execution_count": null
  },
  {
   "metadata": {},
   "cell_type": "code",
   "source": [
    "datamodule = XLabDataModule(**data_kwargs)\n",
    "datamodule.prepare_data()"
   ],
   "id": "24363754fef907b2",
   "outputs": [],
   "execution_count": null
  },
  {
   "metadata": {},
   "cell_type": "code",
   "source": [
    "chunk_dataset = datamodule.datasets['train']\n",
    "token_dataset = chunk_dataset.parent\n",
    "text_dataset = token_dataset.parent"
   ],
   "id": "a84d8bfbe7354d55",
   "outputs": [],
   "execution_count": null
  },
  {
   "metadata": {},
   "cell_type": "code",
   "source": "len(token_dataset)",
   "id": "99110f8d3e2345d2",
   "outputs": [],
   "execution_count": null
  },
  {
   "metadata": {},
   "cell_type": "code",
   "source": [
    "np.random.seed(42)\n",
    "sample_size = min(10_000, len(token_dataset))\n",
    "sample_indices = np.random.permutation(sample_size)\n",
    "sample = {**text_dataset.source[sample_indices], **token_dataset.dataset[sample_indices]}\n",
    "df = pd.DataFrame(sample)"
   ],
   "id": "28f9f773b2586053",
   "outputs": [],
   "execution_count": null
  },
  {
   "metadata": {},
   "cell_type": "code",
   "source": "df['length'] = df[token_dataset.column].apply(lambda indices: len(indices))",
   "id": "79cc41190368ea5c",
   "outputs": [],
   "execution_count": null
  },
  {
   "metadata": {},
   "cell_type": "code",
   "source": "df.head()",
   "id": "108ed658a5d9d13",
   "outputs": [],
   "execution_count": null
  },
  {
   "metadata": {},
   "cell_type": "code",
   "source": "df.length.mean(), df.length.std()",
   "id": "5c928ea3edd0a41d",
   "outputs": [],
   "execution_count": null
  },
  {
   "metadata": {},
   "cell_type": "code",
   "source": [
    "ax = sns.histplot(data=df, x='length',  log_scale=True)\n",
    "ax.set_xlabel('length')\n",
    "ax.set_title('Distribution of text length in tokens')\n",
    "plt.show()"
   ],
   "id": "22c2a08e8aa2f4d5",
   "outputs": [],
   "execution_count": null
  },
  {
   "metadata": {},
   "cell_type": "code",
   "source": [
    "thresholds = [2**n for n in range(20)]\n",
    "percentages = [sum(df.length > threshold) / len(df) for threshold in thresholds]\n",
    "for threshold, percentage in zip(thresholds, percentages):\n",
    "    print(f'Above {threshold}: {percentage * 100:.2f}%')"
   ],
   "id": "40ccd977e18b1cd3",
   "outputs": [],
   "execution_count": null
  }
 ],
 "metadata": {
  "kernelspec": {
   "display_name": "Python 3",
   "language": "python",
   "name": "python3"
  },
  "language_info": {
   "codemirror_mode": {
    "name": "ipython",
    "version": 2
   },
   "file_extension": ".py",
   "mimetype": "text/x-python",
   "name": "python",
   "nbconvert_exporter": "python",
   "pygments_lexer": "ipython2",
   "version": "2.7.6"
  }
 },
 "nbformat": 4,
 "nbformat_minor": 5
}
